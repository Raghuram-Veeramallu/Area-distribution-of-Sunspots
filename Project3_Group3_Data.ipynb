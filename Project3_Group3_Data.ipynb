{
  "nbformat": 4,
  "nbformat_minor": 0,
  "metadata": {
    "colab": {
      "provenance": [],
      "authorship_tag": "ABX9TyMC+a0C9zDZjJLW9lR/kGny",
      "include_colab_link": true
    },
    "kernelspec": {
      "name": "python3",
      "display_name": "Python 3"
    },
    "language_info": {
      "name": "python"
    }
  },
  "cells": [
    {
      "cell_type": "markdown",
      "metadata": {
        "id": "view-in-github",
        "colab_type": "text"
      },
      "source": [
        "<a href=\"https://colab.research.google.com/github/Raghuram-Veeramallu/Astro_Stat_Proj3/blob/development/Project3_Group3_Data.ipynb\" target=\"_parent\"><img src=\"https://colab.research.google.com/assets/colab-badge.svg\" alt=\"Open In Colab\"/></a>"
      ]
    },
    {
      "cell_type": "markdown",
      "source": [
        "# AST/STAT 5731 Project 3\n",
        "\n",
        "## Research Synopsis\n",
        "\n",
        "**Group 3**   \n",
        "Christopher Guo  \n",
        "Daniel Warshofsky  \n",
        "Hari Veeramallu  \n",
        "Jacynda Alatoma  \n",
        "Nicholas Kruegler  "
      ],
      "metadata": {
        "id": "fNQN2Gkc0rG_"
      }
    },
    {
      "cell_type": "code",
      "source": [],
      "metadata": {
        "id": "ZMemsXSR0-le"
      },
      "execution_count": null,
      "outputs": []
    }
  ]
}